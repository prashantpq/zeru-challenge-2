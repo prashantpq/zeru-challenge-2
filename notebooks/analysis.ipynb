{
 "cells": [
  {
   "cell_type": "code",
   "execution_count": null,
   "metadata": {},
   "outputs": [],
   "source": [
    "import pandas as pd\n",
    "import matplotlib.pyplot as plt\n",
    "\n",
    "# Load scores\n",
    "df = pd.read_csv(\"../outputs/wallet_risk_scores.csv\")\n",
    "\n",
    "# Histogram by range\n",
    "bins = list(range(0, 1100, 100))\n",
    "plt.hist(df[\"score\"], bins=bins, edgecolor='black')\n",
    "plt.title(\"Wallet Risk Score Distribution\")\n",
    "plt.xlabel(\"Score Range\")\n",
    "plt.ylabel(\"Number of Wallets\")\n",
    "plt.xticks(bins)\n",
    "plt.show()\n"
   ]
  }
 ],
 "metadata": {
  "kernelspec": {
   "display_name": "base",
   "language": "python",
   "name": "python3"
  },
  "language_info": {
   "name": "python",
   "version": "3.13.5"
  }
 },
 "nbformat": 4,
 "nbformat_minor": 2
}
